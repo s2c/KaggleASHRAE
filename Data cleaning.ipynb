{
 "cells": [
  {
   "cell_type": "code",
   "execution_count": 1,
   "metadata": {},
   "outputs": [
    {
     "name": "stderr",
     "output_type": "stream",
     "text": [
      "/home/s2c/anaconda3/envs/ASHRAE/lib/python3.6/site-packages/h5py/__init__.py:36: FutureWarning: Conversion of the second argument of issubdtype from `float` to `np.floating` is deprecated. In future, it will be treated as `np.float64 == np.dtype(float).type`.\n",
      "  from ._conv import register_converters as _register_converters\n",
      "Using TensorFlow backend.\n"
     ]
    }
   ],
   "source": [
    "##Import packages:\n",
    "import numpy as np\n",
    "import pandas as pd\n",
    "import matplotlib.pyplot as plt\n",
    "from sklearn.preprocessing import LabelEncoder\n",
    "import sklearn as sk\n",
    "import seaborn as sns\n",
    "import tensorflow as tf\n",
    "import keras as K"
   ]
  },
  {
   "cell_type": "code",
   "execution_count": 2,
   "metadata": {},
   "outputs": [
    {
     "name": "stdout",
     "output_type": "stream",
     "text": [
      "Import done\n"
     ]
    }
   ],
   "source": [
    "##Import data:\n",
    "weather_train=pd.read_csv('data/weather_train.csv')\n",
    "weather_test=pd.read_csv('data/weather_test.csv')\n",
    "# test=pd.read_csv('data/test.csv')\n",
    "train=pd.read_csv('data/train.csv')\n",
    "sample_submission=pd.read_csv('data/sample_submission.csv')\n",
    "building_metadata=pd.read_csv('data/building_metadata.csv')\n",
    "print(\"Import done\")"
   ]
  },
  {
   "cell_type": "code",
   "execution_count": 3,
   "metadata": {},
   "outputs": [
    {
     "name": "stdout",
     "output_type": "stream",
     "text": [
      "Merge done\n"
     ]
    }
   ],
   "source": [
    "##Merge into one dataframe:\n",
    "df=train.merge(building_metadata)\n",
    "df=df.merge(weather_train)\n",
    "df['timestamp'] = pd.to_datetime(df['timestamp'])\n",
    "print(\"Merge done\")"
   ]
  },
  {
   "cell_type": "code",
   "execution_count": 4,
   "metadata": {},
   "outputs": [
    {
     "name": "stdout",
     "output_type": "stream",
     "text": [
      "Feature engineering done\n"
     ]
    }
   ],
   "source": [
    "##New features:\n",
    "#Time:\n",
    "df['hour']=df.timestamp.dt.hour\n",
    "df['month']=df.timestamp.dt.month\n",
    "df['year']=df.timestamp.dt.year\n",
    "df['day']=df.timestamp.dt.weekday\n",
    "df['weekend'] = np.where((df['day'] == 5) | (df['day'] == 6), 1, 0)\n",
    "print(\"Feature engineering done\")"
   ]
  },
  {
   "cell_type": "code",
   "execution_count": 5,
   "metadata": {},
   "outputs": [
    {
     "name": "stdout",
     "output_type": "stream",
     "text": [
      "One-hot encoding done\n"
     ]
    }
   ],
   "source": [
    "##One-hot encoding:\n",
    "#Meter:\n",
    "df = pd.get_dummies(df, columns=['meter'])\n",
    "#Primary-use:\n",
    "categorical_feature_mask = df.dtypes==object\n",
    "categorical_cols = df.columns[categorical_feature_mask].tolist()\n",
    "le = LabelEncoder()\n",
    "df[categorical_cols] = df[categorical_cols].apply(lambda col: le.fit_transform(col))\n",
    "df = pd.get_dummies(df, columns=['primary_use'])\n",
    "print(\"One-hot encoding done\")"
   ]
  },
  {
   "cell_type": "code",
   "execution_count": 6,
   "metadata": {},
   "outputs": [
    {
     "name": "stdout",
     "output_type": "stream",
     "text": [
      "Missing values for the dataset (in %)\n",
      " \n",
      "building_id                  0\n",
      "timestamp                    0\n",
      "meter_reading                0\n",
      "site_id                      0\n",
      "square_feet                  0\n",
      "year_built            12113306\n",
      "floor_count           16630052\n",
      "air_temperature           6163\n",
      "cloud_coverage         8734870\n",
      "dew_temperature           9645\n",
      "precip_depth_1_hr      3658528\n",
      "sea_level_pressure     1141174\n",
      "wind_direction         1358553\n",
      "wind_speed               53181\n",
      "hour                         0\n",
      "month                        0\n",
      "year                         0\n",
      "day                          0\n",
      "weekend                      0\n",
      "meter_0                      0\n",
      "meter_1                      0\n",
      "meter_2                      0\n",
      "meter_3                      0\n",
      "primary_use_0                0\n",
      "primary_use_1                0\n",
      "primary_use_2                0\n",
      "primary_use_3                0\n",
      "primary_use_4                0\n",
      "primary_use_5                0\n",
      "primary_use_6                0\n",
      "primary_use_7                0\n",
      "primary_use_8                0\n",
      "primary_use_9                0\n",
      "primary_use_10               0\n",
      "primary_use_11               0\n",
      "primary_use_12               0\n",
      "primary_use_13               0\n",
      "primary_use_14               0\n",
      "primary_use_15               0\n",
      "dtype: int64\n"
     ]
    }
   ],
   "source": [
    "##Missing values:\n",
    "print('Missing values for the dataset (in %)\\n ')\n",
    "print(df.isnull().sum())"
   ]
  },
  {
   "cell_type": "code",
   "execution_count": 7,
   "metadata": {},
   "outputs": [
    {
     "name": "stdout",
     "output_type": "stream",
     "text": [
      "Missing values handled\n"
     ]
    }
   ],
   "source": [
    "##Handling missing data:\n",
    "\n",
    "#Removing features with missing values for more than 30% of the dataset\n",
    "dropped_features=[\"cloud_coverage\",\"precip_depth_1_hr\",\"year_built\",\"floor_count\"]\n",
    "for x in dropped_features:\n",
    "    df=df.drop(columns=x)\n",
    "    \n",
    "#Replacing missing values with median:\n",
    "replace_median=[\"sea_level_pressure\",\"wind_direction\",\"air_temperature\",\"dew_temperature\",\"wind_speed\"]\n",
    "for x in replace_median:\n",
    "    df[x].fillna(df[x].median(), inplace=True)\n",
    "    \n",
    "print(\"Missing values handled\")"
   ]
  },
  {
   "cell_type": "code",
   "execution_count": 8,
   "metadata": {
    "collapsed": true
   },
   "outputs": [],
   "source": [
    "##Dropping irrelevant features:\n",
    "irrelevant=[\"timestamp\",\"year\"]\n",
    "for x in irrelevant:\n",
    "    df=df.drop(columns=x)"
   ]
  },
  {
   "cell_type": "code",
   "execution_count": 9,
   "metadata": {},
   "outputs": [
    {
     "name": "stdout",
     "output_type": "stream",
     "text": [
      "Standarizing done\n"
     ]
    }
   ],
   "source": [
    "##Standarizing\n",
    "real_values=[\"square_feet\",\"wind_direction\",\"wind_speed\",\"air_temperature\",\"sea_level_pressure\",\"dew_temperature\"]\n",
    "for x in real_values:\n",
    "    df[x]=(df[x]-df[x].min())/(df[x].max()-df[x].min())\n",
    "df.head()\n",
    "print(\"Standarizing done\")"
   ]
  },
  {
   "cell_type": "code",
   "execution_count": 10,
   "metadata": {},
   "outputs": [
    {
     "name": "stdout",
     "output_type": "stream",
     "text": [
      "Memory usage reduced\n"
     ]
    }
   ],
   "source": [
    "##Reducing memory usage:\n",
    "\n",
    "#Float\n",
    "float_mask = df.dtypes==float\n",
    "float_cols = df.columns[float_mask].tolist()\n",
    "df[float_cols]=df[float_cols].apply(pd.to_numeric,downcast='float')\n",
    "\n",
    "#Int\n",
    "int_mask = df.dtypes==int\n",
    "int_cols = df.columns[int_mask].tolist()\n",
    "df[int_cols]=df[int_cols].apply(pd.to_numeric,downcast='unsigned')\n",
    "\n",
    "print(\"Memory usage reduced\")"
   ]
  },
  {
   "cell_type": "code",
   "execution_count": 11,
   "metadata": {},
   "outputs": [
    {
     "data": {
      "text/html": [
       "<div>\n",
       "<style scoped>\n",
       "    .dataframe tbody tr th:only-of-type {\n",
       "        vertical-align: middle;\n",
       "    }\n",
       "\n",
       "    .dataframe tbody tr th {\n",
       "        vertical-align: top;\n",
       "    }\n",
       "\n",
       "    .dataframe thead th {\n",
       "        text-align: right;\n",
       "    }\n",
       "</style>\n",
       "<table border=\"1\" class=\"dataframe\">\n",
       "  <thead>\n",
       "    <tr style=\"text-align: right;\">\n",
       "      <th></th>\n",
       "      <th>building_id</th>\n",
       "      <th>meter_reading</th>\n",
       "      <th>site_id</th>\n",
       "      <th>square_feet</th>\n",
       "      <th>air_temperature</th>\n",
       "      <th>dew_temperature</th>\n",
       "      <th>sea_level_pressure</th>\n",
       "      <th>wind_direction</th>\n",
       "      <th>wind_speed</th>\n",
       "      <th>hour</th>\n",
       "      <th>...</th>\n",
       "      <th>primary_use_6</th>\n",
       "      <th>primary_use_7</th>\n",
       "      <th>primary_use_8</th>\n",
       "      <th>primary_use_9</th>\n",
       "      <th>primary_use_10</th>\n",
       "      <th>primary_use_11</th>\n",
       "      <th>primary_use_12</th>\n",
       "      <th>primary_use_13</th>\n",
       "      <th>primary_use_14</th>\n",
       "      <th>primary_use_15</th>\n",
       "    </tr>\n",
       "  </thead>\n",
       "  <tbody>\n",
       "    <tr>\n",
       "      <th>0</th>\n",
       "      <td>0</td>\n",
       "      <td>0.0</td>\n",
       "      <td>0</td>\n",
       "      <td>0.008173</td>\n",
       "      <td>0.708279</td>\n",
       "      <td>0.900164</td>\n",
       "      <td>0.666235</td>\n",
       "      <td>0.0</td>\n",
       "      <td>0.0</td>\n",
       "      <td>0</td>\n",
       "      <td>...</td>\n",
       "      <td>0</td>\n",
       "      <td>0</td>\n",
       "      <td>0</td>\n",
       "      <td>0</td>\n",
       "      <td>0</td>\n",
       "      <td>0</td>\n",
       "      <td>0</td>\n",
       "      <td>0</td>\n",
       "      <td>0</td>\n",
       "      <td>0</td>\n",
       "    </tr>\n",
       "    <tr>\n",
       "      <th>1</th>\n",
       "      <td>1</td>\n",
       "      <td>0.0</td>\n",
       "      <td>0</td>\n",
       "      <td>0.002786</td>\n",
       "      <td>0.708279</td>\n",
       "      <td>0.900164</td>\n",
       "      <td>0.666235</td>\n",
       "      <td>0.0</td>\n",
       "      <td>0.0</td>\n",
       "      <td>0</td>\n",
       "      <td>...</td>\n",
       "      <td>0</td>\n",
       "      <td>0</td>\n",
       "      <td>0</td>\n",
       "      <td>0</td>\n",
       "      <td>0</td>\n",
       "      <td>0</td>\n",
       "      <td>0</td>\n",
       "      <td>0</td>\n",
       "      <td>0</td>\n",
       "      <td>0</td>\n",
       "    </tr>\n",
       "    <tr>\n",
       "      <th>2</th>\n",
       "      <td>2</td>\n",
       "      <td>0.0</td>\n",
       "      <td>0</td>\n",
       "      <td>0.005822</td>\n",
       "      <td>0.708279</td>\n",
       "      <td>0.900164</td>\n",
       "      <td>0.666235</td>\n",
       "      <td>0.0</td>\n",
       "      <td>0.0</td>\n",
       "      <td>0</td>\n",
       "      <td>...</td>\n",
       "      <td>0</td>\n",
       "      <td>0</td>\n",
       "      <td>0</td>\n",
       "      <td>0</td>\n",
       "      <td>0</td>\n",
       "      <td>0</td>\n",
       "      <td>0</td>\n",
       "      <td>0</td>\n",
       "      <td>0</td>\n",
       "      <td>0</td>\n",
       "    </tr>\n",
       "    <tr>\n",
       "      <th>3</th>\n",
       "      <td>3</td>\n",
       "      <td>0.0</td>\n",
       "      <td>0</td>\n",
       "      <td>0.026754</td>\n",
       "      <td>0.708279</td>\n",
       "      <td>0.900164</td>\n",
       "      <td>0.666235</td>\n",
       "      <td>0.0</td>\n",
       "      <td>0.0</td>\n",
       "      <td>0</td>\n",
       "      <td>...</td>\n",
       "      <td>0</td>\n",
       "      <td>0</td>\n",
       "      <td>0</td>\n",
       "      <td>0</td>\n",
       "      <td>0</td>\n",
       "      <td>0</td>\n",
       "      <td>0</td>\n",
       "      <td>0</td>\n",
       "      <td>0</td>\n",
       "      <td>0</td>\n",
       "    </tr>\n",
       "    <tr>\n",
       "      <th>4</th>\n",
       "      <td>4</td>\n",
       "      <td>0.0</td>\n",
       "      <td>0</td>\n",
       "      <td>0.132985</td>\n",
       "      <td>0.708279</td>\n",
       "      <td>0.900164</td>\n",
       "      <td>0.666235</td>\n",
       "      <td>0.0</td>\n",
       "      <td>0.0</td>\n",
       "      <td>0</td>\n",
       "      <td>...</td>\n",
       "      <td>0</td>\n",
       "      <td>0</td>\n",
       "      <td>0</td>\n",
       "      <td>0</td>\n",
       "      <td>0</td>\n",
       "      <td>0</td>\n",
       "      <td>0</td>\n",
       "      <td>0</td>\n",
       "      <td>0</td>\n",
       "      <td>0</td>\n",
       "    </tr>\n",
       "  </tbody>\n",
       "</table>\n",
       "<p>5 rows × 33 columns</p>\n",
       "</div>"
      ],
      "text/plain": [
       "   building_id  meter_reading  site_id  square_feet  air_temperature  \\\n",
       "0            0            0.0        0     0.008173         0.708279   \n",
       "1            1            0.0        0     0.002786         0.708279   \n",
       "2            2            0.0        0     0.005822         0.708279   \n",
       "3            3            0.0        0     0.026754         0.708279   \n",
       "4            4            0.0        0     0.132985         0.708279   \n",
       "\n",
       "   dew_temperature  sea_level_pressure  wind_direction  wind_speed  hour  ...  \\\n",
       "0         0.900164            0.666235             0.0         0.0     0  ...   \n",
       "1         0.900164            0.666235             0.0         0.0     0  ...   \n",
       "2         0.900164            0.666235             0.0         0.0     0  ...   \n",
       "3         0.900164            0.666235             0.0         0.0     0  ...   \n",
       "4         0.900164            0.666235             0.0         0.0     0  ...   \n",
       "\n",
       "   primary_use_6  primary_use_7  primary_use_8  primary_use_9  primary_use_10  \\\n",
       "0              0              0              0              0               0   \n",
       "1              0              0              0              0               0   \n",
       "2              0              0              0              0               0   \n",
       "3              0              0              0              0               0   \n",
       "4              0              0              0              0               0   \n",
       "\n",
       "   primary_use_11  primary_use_12  primary_use_13  primary_use_14  \\\n",
       "0               0               0               0               0   \n",
       "1               0               0               0               0   \n",
       "2               0               0               0               0   \n",
       "3               0               0               0               0   \n",
       "4               0               0               0               0   \n",
       "\n",
       "   primary_use_15  \n",
       "0               0  \n",
       "1               0  \n",
       "2               0  \n",
       "3               0  \n",
       "4               0  \n",
       "\n",
       "[5 rows x 33 columns]"
      ]
     },
     "execution_count": 11,
     "metadata": {},
     "output_type": "execute_result"
    }
   ],
   "source": [
    "df.head()"
   ]
  },
  {
   "cell_type": "code",
   "execution_count": 12,
   "metadata": {
    "collapsed": true
   },
   "outputs": [],
   "source": [
    "##Transforming targeted value\n",
    "df.meter_reading=np.log1p(df.meter_reading)"
   ]
  },
  {
   "cell_type": "code",
   "execution_count": 13,
   "metadata": {},
   "outputs": [
    {
     "data": {
      "text/plain": [
       "<matplotlib.axes._subplots.AxesSubplot at 0x7fc326ed9c18>"
      ]
     },
     "execution_count": 13,
     "metadata": {},
     "output_type": "execute_result"
    }
   ],
   "source": [
    "#Distribution of the log of targeted value:\n",
    "df.meter_reading.hist(bins=50)"
   ]
  },
  {
   "cell_type": "code",
   "execution_count": 14,
   "metadata": {},
   "outputs": [
    {
     "data": {
      "text/plain": [
       "<matplotlib.axes._subplots.AxesSubplot at 0x7fc326ed9c18>"
      ]
     },
     "execution_count": 14,
     "metadata": {},
     "output_type": "execute_result"
    }
   ],
   "source": [
    "## Correlation matrix plot:\n",
    "corr=df.corr()\n",
    "sns.heatmap(corr, \n",
    "        xticklabels=corr.columns,\n",
    "        yticklabels=corr.columns)\n",
    "#Degeulasse! "
   ]
  },
  {
   "cell_type": "code",
   "execution_count": 15,
   "metadata": {
    "collapsed": true
   },
   "outputs": [],
   "source": [
    "#Defining training data:\n",
    "no_feature = ['building_id', 'timestamp', 'meter_reading', 'site_id']\n",
    "X_train = df[df.columns.difference(no_feature)].copy(deep=False)\n",
    "y_train = df['meter_reading']"
   ]
  },
  {
   "cell_type": "code",
   "execution_count": 17,
   "metadata": {},
   "outputs": [
    {
     "ename": "AttributeError",
     "evalue": "'Series' object has no attribute 'to_pick'",
     "output_type": "error",
     "traceback": [
      "\u001b[0;31m---------------------------------------------------------------------------\u001b[0m",
      "\u001b[0;31mAttributeError\u001b[0m                            Traceback (most recent call last)",
      "\u001b[0;32m<ipython-input-17-d9ae3f0e9ebd>\u001b[0m in \u001b[0;36m<module>\u001b[0;34m()\u001b[0m\n\u001b[1;32m      1\u001b[0m \u001b[0;31m#Dump xTrain and yTrain to local file\u001b[0m\u001b[0;34m\u001b[0m\u001b[0;34m\u001b[0m\u001b[0;34m\u001b[0m\u001b[0m\n\u001b[1;32m      2\u001b[0m \u001b[0mX_train\u001b[0m\u001b[0;34m.\u001b[0m\u001b[0mto_pickle\u001b[0m\u001b[0;34m(\u001b[0m\u001b[0;34m'xTrain.data'\u001b[0m\u001b[0;34m)\u001b[0m\u001b[0;34m\u001b[0m\u001b[0;34m\u001b[0m\u001b[0m\n\u001b[0;32m----> 3\u001b[0;31m \u001b[0my_train\u001b[0m\u001b[0;34m.\u001b[0m\u001b[0mto_pick\u001b[0m\u001b[0;34m(\u001b[0m\u001b[0;34m'yTrain.data'\u001b[0m\u001b[0;34m)\u001b[0m\u001b[0;34m\u001b[0m\u001b[0;34m\u001b[0m\u001b[0m\n\u001b[0m",
      "\u001b[0;32m~/anaconda3/envs/ASHRAE/lib/python3.6/site-packages/pandas/core/generic.py\u001b[0m in \u001b[0;36m__getattr__\u001b[0;34m(self, name)\u001b[0m\n\u001b[1;32m   5177\u001b[0m             \u001b[0;32mif\u001b[0m \u001b[0mself\u001b[0m\u001b[0;34m.\u001b[0m\u001b[0m_info_axis\u001b[0m\u001b[0;34m.\u001b[0m\u001b[0m_can_hold_identifiers_and_holds_name\u001b[0m\u001b[0;34m(\u001b[0m\u001b[0mname\u001b[0m\u001b[0;34m)\u001b[0m\u001b[0;34m:\u001b[0m\u001b[0;34m\u001b[0m\u001b[0;34m\u001b[0m\u001b[0m\n\u001b[1;32m   5178\u001b[0m                 \u001b[0;32mreturn\u001b[0m \u001b[0mself\u001b[0m\u001b[0;34m[\u001b[0m\u001b[0mname\u001b[0m\u001b[0;34m]\u001b[0m\u001b[0;34m\u001b[0m\u001b[0;34m\u001b[0m\u001b[0m\n\u001b[0;32m-> 5179\u001b[0;31m             \u001b[0;32mreturn\u001b[0m \u001b[0mobject\u001b[0m\u001b[0;34m.\u001b[0m\u001b[0m__getattribute__\u001b[0m\u001b[0;34m(\u001b[0m\u001b[0mself\u001b[0m\u001b[0;34m,\u001b[0m \u001b[0mname\u001b[0m\u001b[0;34m)\u001b[0m\u001b[0;34m\u001b[0m\u001b[0;34m\u001b[0m\u001b[0m\n\u001b[0m\u001b[1;32m   5180\u001b[0m \u001b[0;34m\u001b[0m\u001b[0m\n\u001b[1;32m   5181\u001b[0m     \u001b[0;32mdef\u001b[0m \u001b[0m__setattr__\u001b[0m\u001b[0;34m(\u001b[0m\u001b[0mself\u001b[0m\u001b[0;34m,\u001b[0m \u001b[0mname\u001b[0m\u001b[0;34m,\u001b[0m \u001b[0mvalue\u001b[0m\u001b[0;34m)\u001b[0m\u001b[0;34m:\u001b[0m\u001b[0;34m\u001b[0m\u001b[0;34m\u001b[0m\u001b[0m\n",
      "\u001b[0;31mAttributeError\u001b[0m: 'Series' object has no attribute 'to_pick'"
     ]
    }
   ],
   "source": [
    "#Dump xTrain and yTrain to local file\n",
    "X_train.to_pickle('xTrain.data')\n",
    "y_train.to_pick('yTrain.data')"
   ]
  }
 ],
 "metadata": {
  "kernelspec": {
   "display_name": "Python [default]",
   "language": "python",
   "name": "python3"
  },
  "language_info": {
   "codemirror_mode": {
    "name": "ipython",
    "version": 3
   },
   "file_extension": ".py",
   "mimetype": "text/x-python",
   "name": "python",
   "nbconvert_exporter": "python",
   "pygments_lexer": "ipython3",
   "version": "3.6.9"
  }
 },
 "nbformat": 4,
 "nbformat_minor": 2
}
