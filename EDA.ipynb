{
 "cells": [
  {
   "cell_type": "code",
   "execution_count": 1,
   "metadata": {},
   "outputs": [],
   "source": [
    "##Import packages:\n",
    "import numpy as np\n",
    "import pandas as pd\n",
    "import matplotlib.pyplot as plt\n",
    "from sklearn.preprocessing import LabelEncoder\n",
    "import seaborn as sns"
   ]
  },
  {
   "cell_type": "code",
   "execution_count": 2,
   "metadata": {},
   "outputs": [],
   "source": [
    "##Import data:\n",
    "weather_train=pd.read_csv('weather_train.csv')\n",
    "weather_test=pd.read_csv('weather_test.csv')\n",
    "test=pd.read_csv('test.csv')\n",
    "train=pd.read_csv('train.csv')\n",
    "sample_submission=pd.read_csv('sample_submission.csv')\n",
    "building_metadata=pd.read_csv('building_metadata.csv')"
   ]
  },
  {
   "cell_type": "code",
   "execution_count": 3,
   "metadata": {},
   "outputs": [
    {
     "data": {
      "text/html": [
       "<div>\n",
       "<style scoped>\n",
       "    .dataframe tbody tr th:only-of-type {\n",
       "        vertical-align: middle;\n",
       "    }\n",
       "\n",
       "    .dataframe tbody tr th {\n",
       "        vertical-align: top;\n",
       "    }\n",
       "\n",
       "    .dataframe thead th {\n",
       "        text-align: right;\n",
       "    }\n",
       "</style>\n",
       "<table border=\"1\" class=\"dataframe\">\n",
       "  <thead>\n",
       "    <tr style=\"text-align: right;\">\n",
       "      <th></th>\n",
       "      <th>site_id</th>\n",
       "      <th>building_id</th>\n",
       "      <th>primary_use</th>\n",
       "      <th>square_feet</th>\n",
       "      <th>year_built</th>\n",
       "      <th>floor_count</th>\n",
       "    </tr>\n",
       "  </thead>\n",
       "  <tbody>\n",
       "    <tr>\n",
       "      <th>0</th>\n",
       "      <td>0</td>\n",
       "      <td>0</td>\n",
       "      <td>Education</td>\n",
       "      <td>7432</td>\n",
       "      <td>2008.0</td>\n",
       "      <td>NaN</td>\n",
       "    </tr>\n",
       "    <tr>\n",
       "      <th>1</th>\n",
       "      <td>0</td>\n",
       "      <td>1</td>\n",
       "      <td>Education</td>\n",
       "      <td>2720</td>\n",
       "      <td>2004.0</td>\n",
       "      <td>NaN</td>\n",
       "    </tr>\n",
       "    <tr>\n",
       "      <th>2</th>\n",
       "      <td>0</td>\n",
       "      <td>2</td>\n",
       "      <td>Education</td>\n",
       "      <td>5376</td>\n",
       "      <td>1991.0</td>\n",
       "      <td>NaN</td>\n",
       "    </tr>\n",
       "    <tr>\n",
       "      <th>3</th>\n",
       "      <td>0</td>\n",
       "      <td>3</td>\n",
       "      <td>Education</td>\n",
       "      <td>23685</td>\n",
       "      <td>2002.0</td>\n",
       "      <td>NaN</td>\n",
       "    </tr>\n",
       "    <tr>\n",
       "      <th>4</th>\n",
       "      <td>0</td>\n",
       "      <td>4</td>\n",
       "      <td>Education</td>\n",
       "      <td>116607</td>\n",
       "      <td>1975.0</td>\n",
       "      <td>NaN</td>\n",
       "    </tr>\n",
       "  </tbody>\n",
       "</table>\n",
       "</div>"
      ],
      "text/plain": [
       "   site_id  building_id primary_use  square_feet  year_built  floor_count\n",
       "0        0            0   Education         7432      2008.0          NaN\n",
       "1        0            1   Education         2720      2004.0          NaN\n",
       "2        0            2   Education         5376      1991.0          NaN\n",
       "3        0            3   Education        23685      2002.0          NaN\n",
       "4        0            4   Education       116607      1975.0          NaN"
      ]
     },
     "execution_count": 3,
     "metadata": {},
     "output_type": "execute_result"
    }
   ],
   "source": [
    "##Building dataset:\n",
    "building_metadata.head()"
   ]
  },
  {
   "cell_type": "code",
   "execution_count": 4,
   "metadata": {},
   "outputs": [
    {
     "data": {
      "text/html": [
       "<div>\n",
       "<style scoped>\n",
       "    .dataframe tbody tr th:only-of-type {\n",
       "        vertical-align: middle;\n",
       "    }\n",
       "\n",
       "    .dataframe tbody tr th {\n",
       "        vertical-align: top;\n",
       "    }\n",
       "\n",
       "    .dataframe thead th {\n",
       "        text-align: right;\n",
       "    }\n",
       "</style>\n",
       "<table border=\"1\" class=\"dataframe\">\n",
       "  <thead>\n",
       "    <tr style=\"text-align: right;\">\n",
       "      <th></th>\n",
       "      <th>building_id</th>\n",
       "      <th>meter</th>\n",
       "      <th>timestamp</th>\n",
       "      <th>meter_reading</th>\n",
       "    </tr>\n",
       "  </thead>\n",
       "  <tbody>\n",
       "    <tr>\n",
       "      <th>0</th>\n",
       "      <td>0</td>\n",
       "      <td>0</td>\n",
       "      <td>2016-01-01 00:00:00</td>\n",
       "      <td>0.0</td>\n",
       "    </tr>\n",
       "    <tr>\n",
       "      <th>1</th>\n",
       "      <td>1</td>\n",
       "      <td>0</td>\n",
       "      <td>2016-01-01 00:00:00</td>\n",
       "      <td>0.0</td>\n",
       "    </tr>\n",
       "    <tr>\n",
       "      <th>2</th>\n",
       "      <td>2</td>\n",
       "      <td>0</td>\n",
       "      <td>2016-01-01 00:00:00</td>\n",
       "      <td>0.0</td>\n",
       "    </tr>\n",
       "    <tr>\n",
       "      <th>3</th>\n",
       "      <td>3</td>\n",
       "      <td>0</td>\n",
       "      <td>2016-01-01 00:00:00</td>\n",
       "      <td>0.0</td>\n",
       "    </tr>\n",
       "    <tr>\n",
       "      <th>4</th>\n",
       "      <td>4</td>\n",
       "      <td>0</td>\n",
       "      <td>2016-01-01 00:00:00</td>\n",
       "      <td>0.0</td>\n",
       "    </tr>\n",
       "  </tbody>\n",
       "</table>\n",
       "</div>"
      ],
      "text/plain": [
       "   building_id  meter            timestamp  meter_reading\n",
       "0            0      0  2016-01-01 00:00:00            0.0\n",
       "1            1      0  2016-01-01 00:00:00            0.0\n",
       "2            2      0  2016-01-01 00:00:00            0.0\n",
       "3            3      0  2016-01-01 00:00:00            0.0\n",
       "4            4      0  2016-01-01 00:00:00            0.0"
      ]
     },
     "execution_count": 4,
     "metadata": {},
     "output_type": "execute_result"
    }
   ],
   "source": [
    "##Train data:\n",
    "train.head()"
   ]
  },
  {
   "cell_type": "code",
   "execution_count": 5,
   "metadata": {},
   "outputs": [
    {
     "data": {
      "text/html": [
       "<div>\n",
       "<style scoped>\n",
       "    .dataframe tbody tr th:only-of-type {\n",
       "        vertical-align: middle;\n",
       "    }\n",
       "\n",
       "    .dataframe tbody tr th {\n",
       "        vertical-align: top;\n",
       "    }\n",
       "\n",
       "    .dataframe thead th {\n",
       "        text-align: right;\n",
       "    }\n",
       "</style>\n",
       "<table border=\"1\" class=\"dataframe\">\n",
       "  <thead>\n",
       "    <tr style=\"text-align: right;\">\n",
       "      <th></th>\n",
       "      <th>site_id</th>\n",
       "      <th>timestamp</th>\n",
       "      <th>air_temperature</th>\n",
       "      <th>cloud_coverage</th>\n",
       "      <th>dew_temperature</th>\n",
       "      <th>precip_depth_1_hr</th>\n",
       "      <th>sea_level_pressure</th>\n",
       "      <th>wind_direction</th>\n",
       "      <th>wind_speed</th>\n",
       "    </tr>\n",
       "  </thead>\n",
       "  <tbody>\n",
       "    <tr>\n",
       "      <th>0</th>\n",
       "      <td>0</td>\n",
       "      <td>2016-01-01 00:00:00</td>\n",
       "      <td>25.0</td>\n",
       "      <td>6.0</td>\n",
       "      <td>20.0</td>\n",
       "      <td>NaN</td>\n",
       "      <td>1019.7</td>\n",
       "      <td>0.0</td>\n",
       "      <td>0.0</td>\n",
       "    </tr>\n",
       "    <tr>\n",
       "      <th>1</th>\n",
       "      <td>0</td>\n",
       "      <td>2016-01-01 01:00:00</td>\n",
       "      <td>24.4</td>\n",
       "      <td>NaN</td>\n",
       "      <td>21.1</td>\n",
       "      <td>-1.0</td>\n",
       "      <td>1020.2</td>\n",
       "      <td>70.0</td>\n",
       "      <td>1.5</td>\n",
       "    </tr>\n",
       "    <tr>\n",
       "      <th>2</th>\n",
       "      <td>0</td>\n",
       "      <td>2016-01-01 02:00:00</td>\n",
       "      <td>22.8</td>\n",
       "      <td>2.0</td>\n",
       "      <td>21.1</td>\n",
       "      <td>0.0</td>\n",
       "      <td>1020.2</td>\n",
       "      <td>0.0</td>\n",
       "      <td>0.0</td>\n",
       "    </tr>\n",
       "    <tr>\n",
       "      <th>3</th>\n",
       "      <td>0</td>\n",
       "      <td>2016-01-01 03:00:00</td>\n",
       "      <td>21.1</td>\n",
       "      <td>2.0</td>\n",
       "      <td>20.6</td>\n",
       "      <td>0.0</td>\n",
       "      <td>1020.1</td>\n",
       "      <td>0.0</td>\n",
       "      <td>0.0</td>\n",
       "    </tr>\n",
       "    <tr>\n",
       "      <th>4</th>\n",
       "      <td>0</td>\n",
       "      <td>2016-01-01 04:00:00</td>\n",
       "      <td>20.0</td>\n",
       "      <td>2.0</td>\n",
       "      <td>20.0</td>\n",
       "      <td>-1.0</td>\n",
       "      <td>1020.0</td>\n",
       "      <td>250.0</td>\n",
       "      <td>2.6</td>\n",
       "    </tr>\n",
       "  </tbody>\n",
       "</table>\n",
       "</div>"
      ],
      "text/plain": [
       "   site_id            timestamp  air_temperature  cloud_coverage  \\\n",
       "0        0  2016-01-01 00:00:00             25.0             6.0   \n",
       "1        0  2016-01-01 01:00:00             24.4             NaN   \n",
       "2        0  2016-01-01 02:00:00             22.8             2.0   \n",
       "3        0  2016-01-01 03:00:00             21.1             2.0   \n",
       "4        0  2016-01-01 04:00:00             20.0             2.0   \n",
       "\n",
       "   dew_temperature  precip_depth_1_hr  sea_level_pressure  wind_direction  \\\n",
       "0             20.0                NaN              1019.7             0.0   \n",
       "1             21.1               -1.0              1020.2            70.0   \n",
       "2             21.1                0.0              1020.2             0.0   \n",
       "3             20.6                0.0              1020.1             0.0   \n",
       "4             20.0               -1.0              1020.0           250.0   \n",
       "\n",
       "   wind_speed  \n",
       "0         0.0  \n",
       "1         1.5  \n",
       "2         0.0  \n",
       "3         0.0  \n",
       "4         2.6  "
      ]
     },
     "execution_count": 5,
     "metadata": {},
     "output_type": "execute_result"
    }
   ],
   "source": [
    "##Weather train data:\n",
    "weather_train.head()"
   ]
  },
  {
   "cell_type": "code",
   "execution_count": 6,
   "metadata": {},
   "outputs": [
    {
     "name": "stdout",
     "output_type": "stream",
     "text": [
      "Missing values for the train dataset (in %)\n",
      " \n",
      "building_id      0\n",
      "meter            0\n",
      "timestamp        0\n",
      "meter_reading    0\n",
      "dtype: int64 3\n",
      "\n",
      "Missing values for the weather train dataset (in %)\n",
      "\n",
      "site_id                     0\n",
      "timestamp                   0\n",
      "air_temperature          5500\n",
      "cloud_coverage        6917300\n",
      "dew_temperature         11300\n",
      "precip_depth_1_hr     5028900\n",
      "sea_level_pressure    1061800\n",
      "wind_direction         626800\n",
      "wind_speed              30400\n",
      "dtype: int64 3\n",
      "\n",
      "Missing values for the building dataset (in %)\n",
      "\n",
      "site_id             0\n",
      "building_id         0\n",
      "primary_use         0\n",
      "square_feet         0\n",
      "year_built      77400\n",
      "floor_count    109400\n",
      "dtype: int64 3\n"
     ]
    }
   ],
   "source": [
    "##Missing values:\n",
    "print('Missing values for the train dataset (in %)\\n ')\n",
    "print(round(100*train.isnull().sum()),3)\n",
    "print('\\nMissing values for the weather train dataset (in %)\\n')\n",
    "print(round(100*weather_train.isnull().sum()),3)\n",
    "print('\\nMissing values for the building dataset (in %)\\n')\n",
    "print(round(100*building_metadata.isnull().sum()),3)"
   ]
  },
  {
   "cell_type": "code",
   "execution_count": 7,
   "metadata": {},
   "outputs": [
    {
     "name": "stdout",
     "output_type": "stream",
     "text": [
      "Description of the train dataset\n",
      "\n",
      "        building_id         meter  meter_reading\n",
      "count  2.021610e+07  2.021610e+07   2.021610e+07\n",
      "mean   7.992780e+02  6.624412e-01   2.117121e+03\n",
      "std    4.269133e+02  9.309921e-01   1.532356e+05\n",
      "min    0.000000e+00  0.000000e+00   0.000000e+00\n",
      "25%    3.930000e+02  0.000000e+00   1.830000e+01\n",
      "50%    8.950000e+02  0.000000e+00   7.877500e+01\n",
      "75%    1.179000e+03  1.000000e+00   2.679840e+02\n",
      "max    1.448000e+03  3.000000e+00   2.190470e+07\n",
      "\n",
      "Description of the weather train dataset\n",
      "\n",
      "             site_id  air_temperature  cloud_coverage  dew_temperature  \\\n",
      "count  139773.000000    139718.000000    70600.000000    139660.000000   \n",
      "mean        7.478977        14.418106        2.149306         7.350158   \n",
      "std         4.604744        10.626595        2.599150         9.790235   \n",
      "min         0.000000       -28.900000        0.000000       -35.000000   \n",
      "25%         3.000000         7.200000        0.000000         0.600000   \n",
      "50%         7.000000        15.000000        2.000000         8.300000   \n",
      "75%        11.000000        22.200000        4.000000        14.400000   \n",
      "max        15.000000        47.200000        9.000000        26.100000   \n",
      "\n",
      "       precip_depth_1_hr  sea_level_pressure  wind_direction     wind_speed  \n",
      "count       89484.000000       129155.000000   133505.000000  139469.000000  \n",
      "mean            0.983047         1016.158038      180.526632       3.560527  \n",
      "std             8.463678            7.629684      111.523629       2.335874  \n",
      "min            -1.000000          968.200000        0.000000       0.000000  \n",
      "25%             0.000000         1011.800000       80.000000       2.100000  \n",
      "50%             0.000000         1016.400000      190.000000       3.100000  \n",
      "75%             0.000000         1020.800000      280.000000       5.000000  \n",
      "max           343.000000         1045.500000      360.000000      19.000000  \n",
      "\n",
      "Description of the building dataset\n",
      "\n",
      "           site_id  building_id    square_feet   year_built  floor_count\n",
      "count  1449.000000  1449.000000    1449.000000   675.000000   355.000000\n",
      "mean      6.952381   724.000000   92111.776398  1967.957037     3.740845\n",
      "std       5.003432   418.434583  110769.950997    31.054030     3.333683\n",
      "min       0.000000     0.000000     283.000000  1900.000000     1.000000\n",
      "25%       3.000000   362.000000   23012.000000  1949.000000     1.000000\n",
      "50%       5.000000   724.000000   57673.000000  1970.000000     3.000000\n",
      "75%      13.000000  1086.000000  115676.000000  1995.000000     5.000000\n",
      "max      15.000000  1448.000000  875000.000000  2017.000000    26.000000\n"
     ]
    }
   ],
   "source": [
    "##Data description:\n",
    "print('Description of the train dataset\\n')\n",
    "print(train.describe())\n",
    "print('\\nDescription of the weather train dataset\\n')\n",
    "print(weather_train.describe())\n",
    "print('\\nDescription of the building dataset\\n')\n",
    "print(building_metadata.describe())"
   ]
  },
  {
   "cell_type": "code",
   "execution_count": 8,
   "metadata": {},
   "outputs": [
    {
     "name": "stdout",
     "output_type": "stream",
     "text": [
      "Feature description for the train dataset: \n",
      "\n",
      "<class 'pandas.core.frame.DataFrame'>\n",
      "RangeIndex: 20216100 entries, 0 to 20216099\n",
      "Data columns (total 4 columns):\n",
      "building_id      int64\n",
      "meter            int64\n",
      "timestamp        object\n",
      "meter_reading    float64\n",
      "dtypes: float64(1), int64(2), object(1)\n",
      "memory usage: 616.9+ MB\n",
      "None\n",
      "\n",
      "Feature description for the weather train dataset: \n",
      "\n",
      "<class 'pandas.core.frame.DataFrame'>\n",
      "RangeIndex: 139773 entries, 0 to 139772\n",
      "Data columns (total 9 columns):\n",
      "site_id               139773 non-null int64\n",
      "timestamp             139773 non-null object\n",
      "air_temperature       139718 non-null float64\n",
      "cloud_coverage        70600 non-null float64\n",
      "dew_temperature       139660 non-null float64\n",
      "precip_depth_1_hr     89484 non-null float64\n",
      "sea_level_pressure    129155 non-null float64\n",
      "wind_direction        133505 non-null float64\n",
      "wind_speed            139469 non-null float64\n",
      "dtypes: float64(7), int64(1), object(1)\n",
      "memory usage: 9.6+ MB\n",
      "None\n",
      "\n",
      "Feature description for the building dataset: \n",
      "\n",
      "<class 'pandas.core.frame.DataFrame'>\n",
      "RangeIndex: 1449 entries, 0 to 1448\n",
      "Data columns (total 6 columns):\n",
      "site_id        1449 non-null int64\n",
      "building_id    1449 non-null int64\n",
      "primary_use    1449 non-null object\n",
      "square_feet    1449 non-null int64\n",
      "year_built     675 non-null float64\n",
      "floor_count    355 non-null float64\n",
      "dtypes: float64(2), int64(3), object(1)\n",
      "memory usage: 68.0+ KB\n",
      "None\n"
     ]
    }
   ],
   "source": [
    "##Features description (names and datatypes):\n",
    "print('Feature description for the train dataset: \\n')\n",
    "print(train.info())\n",
    "print('\\nFeature description for the weather train dataset: \\n')\n",
    "print(weather_train.info())\n",
    "print('\\nFeature description for the building dataset: \\n')\n",
    "print(building_metadata.info())"
   ]
  },
  {
   "cell_type": "code",
   "execution_count": 9,
   "metadata": {},
   "outputs": [],
   "source": [
    "df=train.merge(building_metadata)\n",
    "df=df.merge(weather_train)\n",
    "df['timestamp'] = pd.to_datetime(df['timestamp'])"
   ]
  },
  {
   "cell_type": "code",
   "execution_count": 10,
   "metadata": {},
   "outputs": [
    {
     "data": {
      "text/plain": [
       "(array([3.373e+03, 2.000e+00, 4.100e+01, 7.200e+01, 2.800e+01, 2.000e+00,\n",
       "        5.400e+01, 7.920e+02, 4.240e+02, 7.250e+02, 1.850e+03, 3.110e+02,\n",
       "        6.590e+02, 4.490e+02, 1.000e+00, 0.000e+00, 0.000e+00, 0.000e+00,\n",
       "        1.000e+00]),\n",
       " array([  0.        ,  23.57894737,  47.15789474,  70.73684211,\n",
       "         94.31578947, 117.89473684, 141.47368421, 165.05263158,\n",
       "        188.63157895, 212.21052632, 235.78947368, 259.36842105,\n",
       "        282.94736842, 306.52631579, 330.10526316, 353.68421053,\n",
       "        377.26315789, 400.84210526, 424.42105263, 448.        ]),\n",
       " <a list of 19 Patch objects>)"
      ]
     },
     "execution_count": 10,
     "metadata": {},
     "output_type": "execute_result"
    },
    {
     "data": {
      "image/png": "[encoded data removed]",
      "text/plain": [
       "<Figure size 432x288 with 1 Axes>"
      ]
     },
     "metadata": {},
     "output_type": "display_data"
    }
   ],
   "source": [
    "plt.hist(x=df[df['building_id']==0].meter_reading,bins='auto')"
   ]
  },
  {
   "cell_type": "code",
   "execution_count": 11,
   "metadata": {},
   "outputs": [
    {
     "name": "stdout",
     "output_type": "stream",
     "text": [
      "Building 0:\n"
     ]
    },
    {
     "data": {
      "image/png": "[encoded data removed]",
      "text/plain": [
       "<Figure size 432x288 with 1 Axes>"
      ]
     },
     "metadata": {},
     "output_type": "display_data"
    },
    {
     "name": "stdout",
     "output_type": "stream",
     "text": [
      "Building 1:\n"
     ]
    },
    {
     "data": {
      "text/plain": [
       "[<matplotlib.lines.Line2D at 0x1a19196a58>]"
      ]
     },
     "execution_count": 11,
     "metadata": {},
     "output_type": "execute_result"
    },
    {
     "data": {
      "image/png": "[encoded data removed]",
      "text/plain": [
       "<Figure size 432x288 with 1 Axes>"
      ]
     },
     "metadata": {},
     "output_type": "display_data"
    }
   ],
   "source": [
    "print('Building 0:')\n",
    "plt.plot(df[df['building_id']==0].timestamp,df[df['building_id']==0].meter_reading)\n",
    "plt.show()\n",
    "print('Building 1:')\n",
    "plt.plot(df[df['building_id']==1].timestamp,df[df['building_id']==1].meter_reading)"
   ]
  },
  {
   "cell_type": "code",
   "execution_count": 12,
   "metadata": {},
   "outputs": [],
   "source": [
    "##Reduce memory usage:\n",
    "# https://www.dataquest.io/blog/pandas-big-data/"
   ]
  },
  {
   "cell_type": "code",
   "execution_count": 13,
   "metadata": {},
   "outputs": [],
   "source": [
    "##Feature engineering:\n",
    "# Change date format:\n",
    "df['hour']=df.timestamp.dt.hour\n",
    "df['month']=df.timestamp.dt.month\n",
    "df['year']=df.timestamp.dt.year\n",
    "df['day']=df.timestamp.dt.day"
   ]
  },
  {
   "cell_type": "code",
   "execution_count": 14,
   "metadata": {},
   "outputs": [],
   "source": [
    "##Missing values:\n",
    "\n",
    "#Removing features with missing values for more than 30% of the dataset\n",
    "dropped_features=[\"cloud_coverage\",\"precip_depth_1_hr\",\"year_built\",\"floor_count\"]\n",
    "for x in dropped_features:\n",
    "    df=df.drop(columns=x)\n",
    "    \n",
    "#Replacing missing values with median:\n",
    "replace_median=[\"sea_level_pressure\",\"wind_direction\",\"air_temperature\",\"dew_temperature\",\"wind_speed\"]\n",
    "for x in replace_median:\n",
    "    df[x].fillna(df[x].median(), inplace=True)"
   ]
  },
  {
   "cell_type": "code",
   "execution_count": 15,
   "metadata": {},
   "outputs": [
    {
     "data": {
      "text/plain": [
       "<matplotlib.axes._subplots.AxesSubplot at 0x1a18b7b550>"
      ]
     },
     "execution_count": 15,
     "metadata": {},
     "output_type": "execute_result"
    },
    {
     "data": {
      "image/png": "[encoded data removed]",
      "text/plain": [
       "<Figure size 432x288 with 2 Axes>"
      ]
     },
     "metadata": {},
     "output_type": "display_data"
    }
   ],
   "source": [
    "## Correlation matrix plot\n",
    "corr=df.corr()\n",
    "sns.heatmap(corr, \n",
    "        xticklabels=corr.columns,\n",
    "        yticklabels=corr.columns)"
   ]
  },
  {
   "cell_type": "code",
   "execution_count": 41,
   "metadata": {},
   "outputs": [
    {
     "data": {
      "text/plain": [
       "<matplotlib.axes._subplots.AxesSubplot at 0x1a1ba2d4a8>"
      ]
     },
     "execution_count": 41,
     "metadata": {},
     "output_type": "execute_result"
    },
    {
     "data": {
      "image/png": "[encoded data removed]",
      "text/plain": [
       "<Figure size 432x288 with 2 Axes>"
      ]
     },
     "metadata": {},
     "output_type": "display_data"
    }
   ],
   "source": [
    "## Correlation matrix plot for meter 0\n",
    "corr=df[df['meter']==0].corr()\n",
    "sns.heatmap(corr, \n",
    "        xticklabels=corr.columns,\n",
    "        yticklabels=corr.columns)"
   ]
  },
  {
   "cell_type": "code",
   "execution_count": 42,
   "metadata": {},
   "outputs": [
    {
     "data": {
      "text/plain": [
       "<matplotlib.axes._subplots.AxesSubplot at 0x1a5203b8d0>"
      ]
     },
     "execution_count": 42,
     "metadata": {},
     "output_type": "execute_result"
    },
    {
     "data": {
      "image/png": "[encoded data removed]",
      "text/plain": [
       "<Figure size 432x288 with 2 Axes>"
      ]
     },
     "metadata": {},
     "output_type": "display_data"
    }
   ],
   "source": [
    "## Correlation matrix plot for meter 1\n",
    "corr=df[df['meter']==1].corr()\n",
    "sns.heatmap(corr, \n",
    "        xticklabels=corr.columns,\n",
    "        yticklabels=corr.columns)"
   ]
  },
  {
   "cell_type": "code",
   "execution_count": 43,
   "metadata": {},
   "outputs": [
    {
     "data": {
      "text/plain": [
       "<matplotlib.axes._subplots.AxesSubplot at 0x1a1acea898>"
      ]
     },
     "execution_count": 43,
     "metadata": {},
     "output_type": "execute_result"
    },
    {
     "data": {
      "image/png": "[encoded data removed]",
      "text/plain": [
       "<Figure size 432x288 with 2 Axes>"
      ]
     },
     "metadata": {},
     "output_type": "display_data"
    }
   ],
   "source": [
    "## Correlation matrix plot for meter 2\n",
    "corr=df[df['meter']==2].corr()\n",
    "sns.heatmap(corr, \n",
    "        xticklabels=corr.columns,\n",
    "        yticklabels=corr.columns)"
   ]
  },
  {
   "cell_type": "code",
   "execution_count": 44,
   "metadata": {},
   "outputs": [
    {
     "data": {
      "text/plain": [
       "<matplotlib.axes._subplots.AxesSubplot at 0x1a1ad57710>"
      ]
     },
     "execution_count": 44,
     "metadata": {},
     "output_type": "execute_result"
    },
    {
     "data": {
      "image/png": "[encoded data removed]",
      "text/plain": [
       "<Figure size 432x288 with 2 Axes>"
      ]
     },
     "metadata": {},
     "output_type": "display_data"
    }
   ],
   "source": [
    "## Correlation matrix plot for meter 3\n",
    "corr=df[df['meter']==3].corr()\n",
    "sns.heatmap(corr, \n",
    "        xticklabels=corr.columns,\n",
    "        yticklabels=corr.columns)"
   ]
  },
  {
   "cell_type": "code",
   "execution_count": 49,
   "metadata": {},
   "outputs": [],
   "source": [
    "#One hot encoding meter:\n",
    "df['meter_0']=(df['meter']==0)*1\n",
    "df['meter_1']=(df['meter']==1)*1\n",
    "df['meter_2']=(df['meter']==2)*1\n",
    "df['meter_3']=(df['meter']==3)*1"
   ]
  },
  {
   "cell_type": "code",
   "execution_count": 50,
   "metadata": {},
   "outputs": [],
   "source": [
    "##Dropping irrelevant features:\n",
    "irrelevant=[\"timestamp\",\"year\",\"dew_temperature\",\"primary_use\",\"meter\"]\n",
    "for x in irrelevant:\n",
    "    df=df.drop(columns=x)"
   ]
  },
  {
   "cell_type": "code",
   "execution_count": 17,
   "metadata": {},
   "outputs": [
    {
     "name": "stdout",
     "output_type": "stream",
     "text": [
      "<class 'pandas.core.frame.DataFrame'>\n",
      "Int64Index: 20125605 entries, 0 to 20125604\n",
      "Data columns (total 12 columns):\n",
      "building_id           int64\n",
      "meter                 int64\n",
      "meter_reading         float64\n",
      "site_id               int64\n",
      "square_feet           int64\n",
      "air_temperature       float64\n",
      "sea_level_pressure    float64\n",
      "wind_direction        float64\n",
      "wind_speed            float64\n",
      "hour                  int64\n",
      "month                 int64\n",
      "day                   int64\n",
      "dtypes: float64(5), int64(7)\n",
      "memory usage: 1.9 GB\n"
     ]
    },
    {
     "name": "stderr",
     "output_type": "stream",
     "text": [
      "/Users/principal/anaconda3/lib/python3.6/site-packages/ipykernel_launcher.py:2: FutureWarning: Method .as_matrix will be removed in a future version. Use .values instead.\n",
      "  \n"
     ]
    },
    {
     "name": "stdout",
     "output_type": "stream",
     "text": [
      "1932058080 bytes\n"
     ]
    }
   ],
   "source": [
    "##Reducing memory usage by switching to a matrix\n",
    "df.info()\n",
    "Mat=df.as_matrix()\n",
    "print(\"%d bytes\" % (Mat.size * Mat.itemsize))\n",
    "#Nope not working"
   ]
  },
  {
   "cell_type": "code",
   "execution_count": 40,
   "metadata": {},
   "outputs": [
    {
     "name": "stdout",
     "output_type": "stream",
     "text": [
      "<class 'pandas.core.frame.DataFrame'>\n",
      "Int64Index: 20125605 entries, 0 to 20125604\n",
      "Data columns (total 6 columns):\n",
      "meter_reading         float64\n",
      "square_feet           float64\n",
      "air_temperature       float64\n",
      "sea_level_pressure    float64\n",
      "wind_direction        float64\n",
      "wind_speed            float64\n",
      "dtypes: float64(6)\n",
      "memory usage: 1.0 GB\n",
      "\n",
      "\n",
      "<class 'pandas.core.frame.DataFrame'>\n",
      "Int64Index: 20125605 entries, 0 to 20125604\n",
      "Data columns (total 6 columns):\n",
      "meter_reading         float32\n",
      "square_feet           float32\n",
      "air_temperature       float32\n",
      "sea_level_pressure    float32\n",
      "wind_direction        float32\n",
      "wind_speed            float32\n",
      "dtypes: float32(6)\n",
      "memory usage: 614.2 MB\n",
      "\n",
      "\n",
      "<class 'pandas.core.frame.DataFrame'>\n",
      "Int64Index: 20125605 entries, 0 to 20125604\n",
      "Data columns (total 6 columns):\n",
      "building_id    int64\n",
      "meter          int64\n",
      "site_id        int64\n",
      "hour           int64\n",
      "month          int64\n",
      "day            int64\n",
      "dtypes: int64(6)\n",
      "memory usage: 1.0 GB\n",
      "\n",
      "\n",
      "<class 'pandas.core.frame.DataFrame'>\n",
      "Int64Index: 20125605 entries, 0 to 20125604\n",
      "Data columns (total 6 columns):\n",
      "building_id    uint16\n",
      "meter          uint8\n",
      "site_id        uint8\n",
      "hour           uint8\n",
      "month          uint8\n",
      "day            uint8\n",
      "dtypes: uint16(1), uint8(5)\n",
      "memory usage: 287.9 MB\n",
      "\n",
      "\n"
     ]
    },
    {
     "data": {
      "text/html": [
       "<div>\n",
       "<style scoped>\n",
       "    .dataframe tbody tr th:only-of-type {\n",
       "        vertical-align: middle;\n",
       "    }\n",
       "\n",
       "    .dataframe tbody tr th {\n",
       "        vertical-align: top;\n",
       "    }\n",
       "\n",
       "    .dataframe thead th {\n",
       "        text-align: right;\n",
       "    }\n",
       "</style>\n",
       "<table border=\"1\" class=\"dataframe\">\n",
       "  <thead>\n",
       "    <tr style=\"text-align: right;\">\n",
       "      <th></th>\n",
       "      <th>building_id</th>\n",
       "      <th>meter</th>\n",
       "      <th>site_id</th>\n",
       "      <th>hour</th>\n",
       "      <th>month</th>\n",
       "      <th>day</th>\n",
       "    </tr>\n",
       "  </thead>\n",
       "  <tbody>\n",
       "    <tr>\n",
       "      <th>0</th>\n",
       "      <td>0</td>\n",
       "      <td>0</td>\n",
       "      <td>0</td>\n",
       "      <td>0</td>\n",
       "      <td>1</td>\n",
       "      <td>1</td>\n",
       "    </tr>\n",
       "    <tr>\n",
       "      <th>1</th>\n",
       "      <td>1</td>\n",
       "      <td>0</td>\n",
       "      <td>0</td>\n",
       "      <td>0</td>\n",
       "      <td>1</td>\n",
       "      <td>1</td>\n",
       "    </tr>\n",
       "    <tr>\n",
       "      <th>2</th>\n",
       "      <td>2</td>\n",
       "      <td>0</td>\n",
       "      <td>0</td>\n",
       "      <td>0</td>\n",
       "      <td>1</td>\n",
       "      <td>1</td>\n",
       "    </tr>\n",
       "    <tr>\n",
       "      <th>3</th>\n",
       "      <td>3</td>\n",
       "      <td>0</td>\n",
       "      <td>0</td>\n",
       "      <td>0</td>\n",
       "      <td>1</td>\n",
       "      <td>1</td>\n",
       "    </tr>\n",
       "    <tr>\n",
       "      <th>4</th>\n",
       "      <td>4</td>\n",
       "      <td>0</td>\n",
       "      <td>0</td>\n",
       "      <td>0</td>\n",
       "      <td>1</td>\n",
       "      <td>1</td>\n",
       "    </tr>\n",
       "  </tbody>\n",
       "</table>\n",
       "</div>"
      ],
      "text/plain": [
       "   building_id  meter  site_id  hour  month  day\n",
       "0            0      0        0     0      1    1\n",
       "1            1      0        0     0      1    1\n",
       "2            2      0        0     0      1    1\n",
       "3            3      0        0     0      1    1\n",
       "4            4      0        0     0      1    1"
      ]
     },
     "execution_count": 40,
     "metadata": {},
     "output_type": "execute_result"
    }
   ],
   "source": [
    "##Memory usage reduction:\n",
    "df_float = df.select_dtypes(include=['float'])\n",
    "converted_float = df_float.apply(pd.to_numeric,downcast='float')\n",
    "df_float.info()\n",
    "print('\\n')\n",
    "converted_float.info()\n",
    "print('\\n')\n",
    "\n",
    "df_int = df.select_dtypes(include=['int'])\n",
    "converted_int = df_int.apply(pd.to_numeric,downcast='unsigned')\n",
    "df_int.info()\n",
    "print('\\n')\n",
    "converted_int.info()\n",
    "print('\\n')\n",
    "df_int.head()\n",
    "#Wow impressive :O"
   ]
  },
  {
   "cell_type": "code",
   "execution_count": 18,
   "metadata": {},
   "outputs": [
    {
     "name": "stdout",
     "output_type": "stream",
     "text": [
      "Average memory usage for float columns: 153.55 MB\n",
      "Average memory usage for int columns: 153.55 MB\n",
      "Average memory usage for object columns: 153.55 MB\n"
     ]
    }
   ],
   "source": [
    "for dtype in ['float','int','object']:\n",
    "    selected_dtype = df.select_dtypes(include=[dtype])\n",
    "    mean_usage_b = selected_dtype.memory_usage(deep=True).mean()\n",
    "    mean_usage_mb = mean_usage_b / 1024 ** 2\n",
    "    print(\"Average memory usage for {} columns: {:03.2f} MB\".format(dtype,mean_usage_mb))"
   ]
  },
  {
   "cell_type": "code",
   "execution_count": 19,
   "metadata": {},
   "outputs": [],
   "source": [
    "gl_int = df.select_dtypes(include=['int'])\n",
    "converted_int = gl_int.apply(pd.to_numeric,downcast='unsigned')"
   ]
  },
  {
   "cell_type": "code",
   "execution_count": 20,
   "metadata": {},
   "outputs": [
    {
     "data": {
      "text/html": [
       "<div>\n",
       "<style scoped>\n",
       "    .dataframe tbody tr th:only-of-type {\n",
       "        vertical-align: middle;\n",
       "    }\n",
       "\n",
       "    .dataframe tbody tr th {\n",
       "        vertical-align: top;\n",
       "    }\n",
       "\n",
       "    .dataframe thead th {\n",
       "        text-align: right;\n",
       "    }\n",
       "</style>\n",
       "<table border=\"1\" class=\"dataframe\">\n",
       "  <thead>\n",
       "    <tr style=\"text-align: right;\">\n",
       "      <th></th>\n",
       "      <th>building_id</th>\n",
       "      <th>meter</th>\n",
       "      <th>meter_reading</th>\n",
       "      <th>site_id</th>\n",
       "      <th>square_feet</th>\n",
       "      <th>air_temperature</th>\n",
       "      <th>sea_level_pressure</th>\n",
       "      <th>wind_direction</th>\n",
       "      <th>wind_speed</th>\n",
       "      <th>hour</th>\n",
       "      <th>month</th>\n",
       "      <th>day</th>\n",
       "    </tr>\n",
       "  </thead>\n",
       "  <tbody>\n",
       "    <tr>\n",
       "      <th>0</th>\n",
       "      <td>0</td>\n",
       "      <td>0</td>\n",
       "      <td>0.0</td>\n",
       "      <td>0</td>\n",
       "      <td>0.008173</td>\n",
       "      <td>0.708279</td>\n",
       "      <td>0.666235</td>\n",
       "      <td>0.0</td>\n",
       "      <td>0.0</td>\n",
       "      <td>0</td>\n",
       "      <td>1</td>\n",
       "      <td>1</td>\n",
       "    </tr>\n",
       "    <tr>\n",
       "      <th>1</th>\n",
       "      <td>1</td>\n",
       "      <td>0</td>\n",
       "      <td>0.0</td>\n",
       "      <td>0</td>\n",
       "      <td>0.002786</td>\n",
       "      <td>0.708279</td>\n",
       "      <td>0.666235</td>\n",
       "      <td>0.0</td>\n",
       "      <td>0.0</td>\n",
       "      <td>0</td>\n",
       "      <td>1</td>\n",
       "      <td>1</td>\n",
       "    </tr>\n",
       "    <tr>\n",
       "      <th>2</th>\n",
       "      <td>2</td>\n",
       "      <td>0</td>\n",
       "      <td>0.0</td>\n",
       "      <td>0</td>\n",
       "      <td>0.005822</td>\n",
       "      <td>0.708279</td>\n",
       "      <td>0.666235</td>\n",
       "      <td>0.0</td>\n",
       "      <td>0.0</td>\n",
       "      <td>0</td>\n",
       "      <td>1</td>\n",
       "      <td>1</td>\n",
       "    </tr>\n",
       "    <tr>\n",
       "      <th>3</th>\n",
       "      <td>3</td>\n",
       "      <td>0</td>\n",
       "      <td>0.0</td>\n",
       "      <td>0</td>\n",
       "      <td>0.026754</td>\n",
       "      <td>0.708279</td>\n",
       "      <td>0.666235</td>\n",
       "      <td>0.0</td>\n",
       "      <td>0.0</td>\n",
       "      <td>0</td>\n",
       "      <td>1</td>\n",
       "      <td>1</td>\n",
       "    </tr>\n",
       "    <tr>\n",
       "      <th>4</th>\n",
       "      <td>4</td>\n",
       "      <td>0</td>\n",
       "      <td>0.0</td>\n",
       "      <td>0</td>\n",
       "      <td>0.132985</td>\n",
       "      <td>0.708279</td>\n",
       "      <td>0.666235</td>\n",
       "      <td>0.0</td>\n",
       "      <td>0.0</td>\n",
       "      <td>0</td>\n",
       "      <td>1</td>\n",
       "      <td>1</td>\n",
       "    </tr>\n",
       "  </tbody>\n",
       "</table>\n",
       "</div>"
      ],
      "text/plain": [
       "   building_id  meter  meter_reading  site_id  square_feet  air_temperature  \\\n",
       "0            0      0            0.0        0     0.008173         0.708279   \n",
       "1            1      0            0.0        0     0.002786         0.708279   \n",
       "2            2      0            0.0        0     0.005822         0.708279   \n",
       "3            3      0            0.0        0     0.026754         0.708279   \n",
       "4            4      0            0.0        0     0.132985         0.708279   \n",
       "\n",
       "   sea_level_pressure  wind_direction  wind_speed  hour  month  day  \n",
       "0            0.666235             0.0         0.0     0      1    1  \n",
       "1            0.666235             0.0         0.0     0      1    1  \n",
       "2            0.666235             0.0         0.0     0      1    1  \n",
       "3            0.666235             0.0         0.0     0      1    1  \n",
       "4            0.666235             0.0         0.0     0      1    1  "
      ]
     },
     "execution_count": 20,
     "metadata": {},
     "output_type": "execute_result"
    }
   ],
   "source": [
    "##Features by data_type\n",
    "real_values=[\"square_feet\",\"wind_direction\",\"wind_speed\",\"air_temperature\",\"sea_level_pressure\"]\n",
    "cat=[\"primary_use\"]\n",
    "for x in real_values:\n",
    "    df[x]=(df[x]-df[x].min())/(df[x].max()-df[x].min())\n",
    "df.head()"
   ]
  },
  {
   "cell_type": "code",
   "execution_count": 26,
   "metadata": {},
   "outputs": [
    {
     "data": {
      "text/html": [
       "<div>\n",
       "<style scoped>\n",
       "    .dataframe tbody tr th:only-of-type {\n",
       "        vertical-align: middle;\n",
       "    }\n",
       "\n",
       "    .dataframe tbody tr th {\n",
       "        vertical-align: top;\n",
       "    }\n",
       "\n",
       "    .dataframe thead th {\n",
       "        text-align: right;\n",
       "    }\n",
       "</style>\n",
       "<table border=\"1\" class=\"dataframe\">\n",
       "  <thead>\n",
       "    <tr style=\"text-align: right;\">\n",
       "      <th></th>\n",
       "      <th>count</th>\n",
       "      <th>mean</th>\n",
       "      <th>std</th>\n",
       "      <th>min</th>\n",
       "      <th>25%</th>\n",
       "      <th>50%</th>\n",
       "      <th>75%</th>\n",
       "      <th>max</th>\n",
       "    </tr>\n",
       "    <tr>\n",
       "      <th>meter</th>\n",
       "      <th></th>\n",
       "      <th></th>\n",
       "      <th></th>\n",
       "      <th></th>\n",
       "      <th></th>\n",
       "      <th></th>\n",
       "      <th></th>\n",
       "      <th></th>\n",
       "    </tr>\n",
       "  </thead>\n",
       "  <tbody>\n",
       "    <tr>\n",
       "      <th>0</th>\n",
       "      <td>12017408.0</td>\n",
       "      <td>170.630566</td>\n",
       "      <td>379.536194</td>\n",
       "      <td>0.0</td>\n",
       "      <td>19.5000</td>\n",
       "      <td>62.7840</td>\n",
       "      <td>170.01725</td>\n",
       "      <td>79769.0</td>\n",
       "    </tr>\n",
       "    <tr>\n",
       "      <th>1</th>\n",
       "      <td>4160093.0</td>\n",
       "      <td>635.931604</td>\n",
       "      <td>8005.097008</td>\n",
       "      <td>0.0</td>\n",
       "      <td>11.5001</td>\n",
       "      <td>121.7530</td>\n",
       "      <td>466.96700</td>\n",
       "      <td>880374.0</td>\n",
       "    </tr>\n",
       "    <tr>\n",
       "      <th>2</th>\n",
       "      <td>2686678.0</td>\n",
       "      <td>13988.612443</td>\n",
       "      <td>420023.741536</td>\n",
       "      <td>0.0</td>\n",
       "      <td>45.7500</td>\n",
       "      <td>256.2000</td>\n",
       "      <td>1032.75000</td>\n",
       "      <td>21904700.0</td>\n",
       "    </tr>\n",
       "    <tr>\n",
       "      <th>3</th>\n",
       "      <td>1261426.0</td>\n",
       "      <td>383.836147</td>\n",
       "      <td>2507.009375</td>\n",
       "      <td>0.0</td>\n",
       "      <td>0.0000</td>\n",
       "      <td>38.9072</td>\n",
       "      <td>240.31800</td>\n",
       "      <td>160187.0</td>\n",
       "    </tr>\n",
       "  </tbody>\n",
       "</table>\n",
       "</div>"
      ],
      "text/plain": [
       "            count          mean            std  min      25%       50%  \\\n",
       "meter                                                                    \n",
       "0      12017408.0    170.630566     379.536194  0.0  19.5000   62.7840   \n",
       "1       4160093.0    635.931604    8005.097008  0.0  11.5001  121.7530   \n",
       "2       2686678.0  13988.612443  420023.741536  0.0  45.7500  256.2000   \n",
       "3       1261426.0    383.836147    2507.009375  0.0   0.0000   38.9072   \n",
       "\n",
       "              75%         max  \n",
       "meter                          \n",
       "0       170.01725     79769.0  \n",
       "1       466.96700    880374.0  \n",
       "2      1032.75000  21904700.0  \n",
       "3       240.31800    160187.0  "
      ]
     },
     "execution_count": 26,
     "metadata": {},
     "output_type": "execute_result"
    }
   ],
   "source": [
    "#Meter_reading distribution by meter type:\n",
    "df.groupby('meter').meter_reading.describe()"
   ]
  },
  {
   "cell_type": "code",
   "execution_count": 34,
   "metadata": {},
   "outputs": [
    {
     "data": {
      "text/plain": [
       "(array([2.699e+03, 1.088e+03, 8.040e+02, 8.990e+02, 9.720e+02, 8.550e+02,\n",
       "        7.260e+02, 5.350e+02, 6.980e+02, 7.680e+02, 7.260e+02, 5.700e+02,\n",
       "        7.650e+02, 7.130e+02, 5.240e+02, 7.050e+02, 8.020e+02, 8.190e+02,\n",
       "        4.520e+02, 4.810e+02, 4.340e+02, 3.230e+02, 1.840e+02, 2.120e+02,\n",
       "        2.130e+02, 1.950e+02, 1.310e+02, 1.490e+02, 1.610e+02, 1.090e+02,\n",
       "        1.380e+02, 1.130e+02, 8.500e+01, 8.100e+01, 8.800e+01, 7.400e+01,\n",
       "        7.900e+01, 4.800e+01, 6.900e+01, 6.200e+01, 3.500e+01, 2.600e+01,\n",
       "        3.400e+01, 3.300e+01, 2.300e+01, 2.800e+01, 2.800e+01, 2.100e+01,\n",
       "        1.700e+01, 1.800e+01, 1.100e+01, 1.900e+01, 1.300e+01, 2.600e+01,\n",
       "        1.300e+01, 1.100e+01, 9.000e+00, 9.000e+00, 1.400e+01, 7.000e+00,\n",
       "        8.000e+00, 1.400e+01, 1.000e+01, 4.000e+00, 4.000e+00, 7.000e+00,\n",
       "        5.000e+00, 2.000e+00, 0.000e+00, 0.000e+00, 1.000e+00]),\n",
       " array([   42.2104    ,   199.75673239,   357.30306479,   514.84939718,\n",
       "          672.39572958,   829.94206197,   987.48839437,  1145.03472676,\n",
       "         1302.58105915,  1460.12739155,  1617.67372394,  1775.22005634,\n",
       "         1932.76638873,  2090.31272113,  2247.85905352,  2405.40538592,\n",
       "         2562.95171831,  2720.4980507 ,  2878.0443831 ,  3035.59071549,\n",
       "         3193.13704789,  3350.68338028,  3508.22971268,  3665.77604507,\n",
       "         3823.32237746,  3980.86870986,  4138.41504225,  4295.96137465,\n",
       "         4453.50770704,  4611.05403944,  4768.60037183,  4926.14670423,\n",
       "         5083.69303662,  5241.23936901,  5398.78570141,  5556.3320338 ,\n",
       "         5713.8783662 ,  5871.42469859,  6028.97103099,  6186.51736338,\n",
       "         6344.06369577,  6501.61002817,  6659.15636056,  6816.70269296,\n",
       "         6974.24902535,  7131.79535775,  7289.34169014,  7446.88802254,\n",
       "         7604.43435493,  7761.98068732,  7919.52701972,  8077.07335211,\n",
       "         8234.61968451,  8392.1660169 ,  8549.7123493 ,  8707.25868169,\n",
       "         8864.80501408,  9022.35134648,  9179.89767887,  9337.44401127,\n",
       "         9494.99034366,  9652.53667606,  9810.08300845,  9967.62934085,\n",
       "        10125.17567324, 10282.72200563, 10440.26833803, 10597.81467042,\n",
       "        10755.36100282, 10912.90733521, 11070.45366761, 11228.        ]),\n",
       " <a list of 71 Patch objects>)"
      ]
     },
     "execution_count": 34,
     "metadata": {},
     "output_type": "execute_result"
    },
    {
     "data": {
      "image/png": "[encoded data removed]",
      "text/plain": [
       "<Figure size 432x288 with 1 Axes>"
      ]
     },
     "metadata": {},
     "output_type": "display_data"
    }
   ],
   "source": [
    "##Exponential distribution of targeted value when grouping by meter:\n",
    "plt.hist(x=(df[(df['meter']==1) & (df['meter_reading']!=0) ].meter_reading[1:20000]),bins='auto')"
   ]
  },
  {
   "cell_type": "code",
   "execution_count": 53,
   "metadata": {},
   "outputs": [
    {
     "data": {
      "text/html": [
       "<div>\n",
       "<style scoped>\n",
       "    .dataframe tbody tr th:only-of-type {\n",
       "        vertical-align: middle;\n",
       "    }\n",
       "\n",
       "    .dataframe tbody tr th {\n",
       "        vertical-align: top;\n",
       "    }\n",
       "\n",
       "    .dataframe thead th {\n",
       "        text-align: right;\n",
       "    }\n",
       "</style>\n",
       "<table border=\"1\" class=\"dataframe\">\n",
       "  <thead>\n",
       "    <tr style=\"text-align: right;\">\n",
       "      <th></th>\n",
       "      <th>building_id</th>\n",
       "      <th>meter_reading</th>\n",
       "      <th>site_id</th>\n",
       "      <th>square_feet</th>\n",
       "      <th>air_temperature</th>\n",
       "      <th>sea_level_pressure</th>\n",
       "      <th>wind_direction</th>\n",
       "      <th>wind_speed</th>\n",
       "      <th>hour</th>\n",
       "      <th>month</th>\n",
       "      <th>day</th>\n",
       "      <th>meter_0</th>\n",
       "      <th>meter_1</th>\n",
       "      <th>meter_2</th>\n",
       "      <th>meter_3</th>\n",
       "    </tr>\n",
       "  </thead>\n",
       "  <tbody>\n",
       "    <tr>\n",
       "      <th>0</th>\n",
       "      <td>0</td>\n",
       "      <td>0.0</td>\n",
       "      <td>0</td>\n",
       "      <td>0.008173</td>\n",
       "      <td>0.708279</td>\n",
       "      <td>0.666235</td>\n",
       "      <td>0.0</td>\n",
       "      <td>0.0</td>\n",
       "      <td>0</td>\n",
       "      <td>1</td>\n",
       "      <td>1</td>\n",
       "      <td>1</td>\n",
       "      <td>0</td>\n",
       "      <td>0</td>\n",
       "      <td>0</td>\n",
       "    </tr>\n",
       "    <tr>\n",
       "      <th>1</th>\n",
       "      <td>1</td>\n",
       "      <td>0.0</td>\n",
       "      <td>0</td>\n",
       "      <td>0.002786</td>\n",
       "      <td>0.708279</td>\n",
       "      <td>0.666235</td>\n",
       "      <td>0.0</td>\n",
       "      <td>0.0</td>\n",
       "      <td>0</td>\n",
       "      <td>1</td>\n",
       "      <td>1</td>\n",
       "      <td>1</td>\n",
       "      <td>0</td>\n",
       "      <td>0</td>\n",
       "      <td>0</td>\n",
       "    </tr>\n",
       "    <tr>\n",
       "      <th>2</th>\n",
       "      <td>2</td>\n",
       "      <td>0.0</td>\n",
       "      <td>0</td>\n",
       "      <td>0.005822</td>\n",
       "      <td>0.708279</td>\n",
       "      <td>0.666235</td>\n",
       "      <td>0.0</td>\n",
       "      <td>0.0</td>\n",
       "      <td>0</td>\n",
       "      <td>1</td>\n",
       "      <td>1</td>\n",
       "      <td>1</td>\n",
       "      <td>0</td>\n",
       "      <td>0</td>\n",
       "      <td>0</td>\n",
       "    </tr>\n",
       "    <tr>\n",
       "      <th>3</th>\n",
       "      <td>3</td>\n",
       "      <td>0.0</td>\n",
       "      <td>0</td>\n",
       "      <td>0.026754</td>\n",
       "      <td>0.708279</td>\n",
       "      <td>0.666235</td>\n",
       "      <td>0.0</td>\n",
       "      <td>0.0</td>\n",
       "      <td>0</td>\n",
       "      <td>1</td>\n",
       "      <td>1</td>\n",
       "      <td>1</td>\n",
       "      <td>0</td>\n",
       "      <td>0</td>\n",
       "      <td>0</td>\n",
       "    </tr>\n",
       "    <tr>\n",
       "      <th>4</th>\n",
       "      <td>4</td>\n",
       "      <td>0.0</td>\n",
       "      <td>0</td>\n",
       "      <td>0.132985</td>\n",
       "      <td>0.708279</td>\n",
       "      <td>0.666235</td>\n",
       "      <td>0.0</td>\n",
       "      <td>0.0</td>\n",
       "      <td>0</td>\n",
       "      <td>1</td>\n",
       "      <td>1</td>\n",
       "      <td>1</td>\n",
       "      <td>0</td>\n",
       "      <td>0</td>\n",
       "      <td>0</td>\n",
       "    </tr>\n",
       "  </tbody>\n",
       "</table>\n",
       "</div>"
      ],
      "text/plain": [
       "   building_id  meter_reading  site_id  square_feet  air_temperature  \\\n",
       "0            0            0.0        0     0.008173         0.708279   \n",
       "1            1            0.0        0     0.002786         0.708279   \n",
       "2            2            0.0        0     0.005822         0.708279   \n",
       "3            3            0.0        0     0.026754         0.708279   \n",
       "4            4            0.0        0     0.132985         0.708279   \n",
       "\n",
       "   sea_level_pressure  wind_direction  wind_speed  hour  month  day  meter_0  \\\n",
       "0            0.666235             0.0         0.0     0      1    1        1   \n",
       "1            0.666235             0.0         0.0     0      1    1        1   \n",
       "2            0.666235             0.0         0.0     0      1    1        1   \n",
       "3            0.666235             0.0         0.0     0      1    1        1   \n",
       "4            0.666235             0.0         0.0     0      1    1        1   \n",
       "\n",
       "   meter_1  meter_2  meter_3  \n",
       "0        0        0        0  \n",
       "1        0        0        0  \n",
       "2        0        0        0  \n",
       "3        0        0        0  \n",
       "4        0        0        0  "
      ]
     },
     "execution_count": 53,
     "metadata": {},
     "output_type": "execute_result"
    }
   ],
   "source": [
    "df.head()"
   ]
  },
  {
   "cell_type": "code",
   "execution_count": 22,
   "metadata": {},
   "outputs": [],
   "source": [
    "##Feature engineering and transformations:\n",
    "# 1- form 3 columns : hour ; day/month; year \n",
    "# 2- onehot encoding for meter category, site_id\n",
    "# 3- missing values (remove or replace by median)\n",
    "# 4- check if meter_reading is normally distributed if not try log? => when grouping by meter an exponential distribution appears"
   ]
  },
  {
   "cell_type": "code",
   "execution_count": 23,
   "metadata": {},
   "outputs": [],
   "source": [
    "## Models:\n",
    "# Regression => which loss function?\n",
    "# Gradient boosting\n",
    "# Machine learning (sklearn)"
   ]
  },
  {
   "cell_type": "code",
   "execution_count": 24,
   "metadata": {},
   "outputs": [],
   "source": [
    "## How to improve score:\n",
    "# https://www.dataquest.io/blog/kaggle-tips-tricks/\n",
    "# https://www.import.io/post/how-to-win-a-kaggle-competition/\n",
    "# http://www.data-mania.com/blog/how-to-win-kaggle/"
   ]
  }
 ],
 "metadata": {
  "kernelspec": {
   "display_name": "Python 3",
   "language": "python",
   "name": "python3"
  },
  "language_info": {
   "codemirror_mode": {
    "name": "ipython",
    "version": 3
   },
   "file_extension": ".py",
   "mimetype": "text/x-python",
   "name": "python",
   "nbconvert_exporter": "python",
   "pygments_lexer": "ipython3",
   "version": "3.6.5"
  }
 },
 "nbformat": 4,
 "nbformat_minor": 2
}
