{
 "cells": [
  {
   "cell_type": "code",
   "execution_count": 31,
   "metadata": {},
   "outputs": [],
   "source": [
    "# Simple Regression\n",
    "import pandas as pd\n",
    "import numpy as np\n",
    "import sklearn as sk\n",
    "from keras.models import Sequential\n",
    "from keras.layers import Dense\n",
    "from keras.wrappers.scikit_learn import KerasRegressor\n",
    "from sklearn.model_selection import cross_val_score\n",
    "from sklearn.model_selection import KFold\n",
    "from sklearn.preprocessing import StandardScaler\n",
    "from sklearn.pipeline import Pipeline\n",
    "import keras as K\n",
    "import tensorflow as tf"
   ]
  },
  {
   "cell_type": "code",
   "execution_count": 2,
   "metadata": {
    "collapsed": true
   },
   "outputs": [],
   "source": [
    "# Baseline model\n",
    "def baseline_model():\n",
    "\t# create model\n",
    "\tmodel = Sequential()\n",
    "\tmodel.add(Dense(30, input_dim=30, activation='relu'))\n",
    "\tmodel.add(Dense(1, )\n",
    "\t# Compile model\n",
    "\tmodel.compile(loss=RMSLE, optimizer='adam')\n",
    "\treturn model"
   ]
  },
  {
   "cell_type": "code",
   "execution_count": 3,
   "metadata": {
    "collapsed": true
   },
   "outputs": [],
   "source": [
    "# Define our Loss Function\n",
    "def RMSLE(y_true, y_pred):\n",
    "        return K.backend.sqrt(\n",
    "                K.backend.mean(\n",
    "                 K.backend.square(\n",
    "                  K.backend.log(y_pred+1)-K.backend.log(y_true+1))))"
   ]
  },
  {
   "cell_type": "code",
   "execution_count": 4,
   "metadata": {},
   "outputs": [],
   "source": [
    "#Read the Dataset\n",
    "X = pd.read_pickle('xTrain.data')\n",
    "y = pd.read_pickle('yTrain.data')\n",
    "#Train/Test Split\n",
    "xTrain, xTest, yTrain, yTest = sk.model_selection.train_test_split(X, y, test_size=.33)"
   ]
  },
  {
   "cell_type": "code",
   "execution_count": 13,
   "metadata": {},
   "outputs": [
    {
     "name": "stdout",
     "output_type": "stream",
     "text": [
      "Epoch 1/1\n",
      "13484155/13484155 [==============================] - 11s 1us/step - loss: 0.5877\n"
     ]
    },
    {
     "data": {
      "text/plain": [
       "<keras.callbacks.History at 0x7f40fc8b26a0>"
      ]
     },
     "execution_count": 13,
     "metadata": {},
     "output_type": "execute_result"
    }
   ],
   "source": [
    "estimator = KerasRegressor(build_fn=baseline_model, epochs=1, batch_size=10000, verbose=1)\n",
    "# kfold = KFold(n_splits=2)\n",
    "# results = cross_val_score(estimator, xTrain, yTrain, cv=kfold)\n",
    "estimator.fit(xTrain,yTrain)\n",
    "# print(\"Baseline: %.2f (%.2f) MSE\" % (results.mean(), results.std()))"
   ]
  },
  {
   "cell_type": "code",
   "execution_count": 35,
   "metadata": {},
   "outputs": [
    {
     "name": "stdout",
     "output_type": "stream",
     "text": [
      "6641450/6641450 [==============================] - 1s 0us/step\n",
      "Current Lowest Error is: 0.5428902\n"
     ]
    }
   ],
   "source": [
    "preds = estimator.predict(xTest)\n",
    "rms = RMSLE(yTest,preds)\n",
    "with tf.Session() as sess:  print('Current Lowest Error RMSLE is: ' + str(rms.eval())) "
   ]
  },
  {
   "cell_type": "code",
   "execution_count": 32,
   "metadata": {},
   "outputs": [
    {
     "name": "stdout",
     "output_type": "stream",
     "text": [
      "0.5428902\n"
     ]
    }
   ],
   "source": []
  }
 ],
 "metadata": {
  "kernelspec": {
   "display_name": "Python [default]",
   "language": "python",
   "name": "python3"
  },
  "language_info": {
   "codemirror_mode": {
    "name": "ipython",
    "version": 3
   },
   "file_extension": ".py",
   "mimetype": "text/x-python",
   "name": "python",
   "nbconvert_exporter": "python",
   "pygments_lexer": "ipython3",
   "version": "3.6.9"
  }
 },
 "nbformat": 4,
 "nbformat_minor": 2
}
